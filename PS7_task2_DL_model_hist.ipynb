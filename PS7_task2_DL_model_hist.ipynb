{
 "cells": [
  {
   "cell_type": "code",
   "execution_count": 2,
   "metadata": {},
   "outputs": [],
   "source": [
    "import matplotlib\n",
    "import matplotlib.pyplot as plt\n",
    "from tqdm.notebook import tqdm\n",
    "import numpy as np\n",
    "import math\n",
    "from itertools import chain \n",
    "from scipy.stats import expon"
   ]
  },
  {
   "cell_type": "code",
   "execution_count": 18,
   "metadata": {},
   "outputs": [
    {
     "data": {
      "application/vnd.jupyter.widget-view+json": {
       "model_id": "cc8f34539c0a4831991a4c5ed6c1548c",
       "version_major": 2,
       "version_minor": 0
      },
      "text/plain": [
       "HBox(children=(FloatProgress(value=0.0, max=1000.0), HTML(value='')))"
      ]
     },
     "metadata": {},
     "output_type": "display_data"
    },
    {
     "name": "stdout",
     "output_type": "stream",
     "text": [
      "\n"
     ]
    }
   ],
   "source": [
    "# Define parameters\n",
    "p = 5*pow(10,-6)\n",
    "N0 = 400\n",
    "g = 20 \n",
    "q = pow(10,3)\n",
    "surv = np.zeros(q)\n",
    "\n",
    "for Q in tqdm( range(q) ):\n",
    "    mut1 = 0\n",
    "    mut2 = 0\n",
    "    non = N0\n",
    "\n",
    "    for j in range(g): \n",
    "\n",
    "        tmp1 = np.random.poisson(2*p*non) #method like in the class\n",
    "        tmp2 = np.random.poisson(2*p*mut1)\n",
    "        \n",
    "        mut1 = 2*mut1 + tmp1 - tmp2\n",
    "        mut2 = 2*mut2 + tmp2\n",
    "        non = N0*pow(2,j+1) - mut1 - mut2\n",
    "    \n",
    "    surv[Q] = mut2"
   ]
  },
  {
   "cell_type": "code",
   "execution_count": 25,
   "metadata": {},
   "outputs": [],
   "source": [
    "x=[]\n",
    "ch = 30\n",
    "for Q in range(q):\n",
    "    if surv[Q]>ch:\n",
    "        x.append(ch)\n",
    "    else:\n",
    "        x.append(surv[Q])"
   ]
  },
  {
   "cell_type": "code",
   "execution_count": 32,
   "metadata": {},
   "outputs": [
    {
     "data": {
      "image/png": "[encoded data removed]",
      "text/plain": [
       "<Figure size 576x576 with 1 Axes>"
      ]
     },
     "metadata": {
      "needs_background": "light"
     },
     "output_type": "display_data"
    }
   ],
   "source": [
    "font = {'family' : 'Segoe UI',\n",
    "        'weight' : 'normal',\n",
    "        'size'   : 18}\n",
    "matplotlib.rc('font', **font)\n",
    "\n",
    "plt.figure (figsize=(8,8))\n",
    "plt.hist(x,  bins=ch+1, rwidth = 0.9, density='True', align='mid', range = (-0.5,ch+0.5), color = '#4cd87a')\n",
    "\n",
    "plt.xlabel('# of survivors') \n",
    "plt.ylabel('Occurences\\n(fraction)')\n",
    "\n",
    "plt.ylim(ymin=0, ymax = 1)\n",
    "plt.yticks(np.arange(0, 1.1, step=0.1))\n",
    "plt.xlim(xmin=-0.5, xmax = ch+0.5)\n",
    "plt.show()"
   ]
  }
 ],
 "metadata": {
  "kernelspec": {
   "display_name": "Python 3",
   "language": "python",
   "name": "python3"
  },
  "language_info": {
   "codemirror_mode": {
    "name": "ipython",
    "version": 3
   },
   "file_extension": ".py",
   "mimetype": "text/x-python",
   "name": "python",
   "nbconvert_exporter": "python",
   "pygments_lexer": "ipython3",
   "version": "3.7.3"
  }
 },
 "nbformat": 4,
 "nbformat_minor": 2
}
