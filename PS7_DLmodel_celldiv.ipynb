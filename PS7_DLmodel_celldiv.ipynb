{
 "cells": [
  {
   "cell_type": "code",
   "execution_count": 938,
   "metadata": {},
   "outputs": [],
   "source": [
    "import matplotlib\n",
    "import matplotlib.pyplot as plt\n",
    "from tqdm.notebook import tqdm\n",
    "import numpy as np\n",
    "import math\n",
    "from itertools import chain \n",
    "from scipy.stats import expon"
   ]
  },
  {
   "cell_type": "code",
   "execution_count": 939,
   "metadata": {},
   "outputs": [
    {
     "data": {
      "application/vnd.jupyter.widget-view+json": {
       "model_id": "375da431a07944028ef319ce3966c0bb",
       "version_major": 2,
       "version_minor": 0
      },
      "text/plain": [
       "HBox(children=(FloatProgress(value=0.0, max=10000.0), HTML(value='')))"
      ]
     },
     "metadata": {},
     "output_type": "display_data"
    },
    {
     "name": "stdout",
     "output_type": "stream",
     "text": [
      "\n"
     ]
    }
   ],
   "source": [
    "# Define parameters\n",
    "p = 5*pow(10,-9)\n",
    "N0 = 100\n",
    "g = 20 \n",
    "q = pow(10,4)\n",
    "surv = np.zeros(q)\n",
    "\n",
    "for Q in tqdm( range(q) ):\n",
    "    \n",
    "    mutant = 0\n",
    "    non = N0\n",
    "\n",
    "    for j in range(g): \n",
    "\n",
    "        tmp = np.random.poisson(2*p*non) #method like in the class\n",
    "        \n",
    "        mutant = 2*mutant + tmp\n",
    "        non = N0*pow(2,j+1) - mutant\n",
    "    \n",
    "    surv[Q] = mutant"
   ]
  },
  {
   "cell_type": "code",
   "execution_count": 940,
   "metadata": {},
   "outputs": [],
   "source": [
    "x=[]\n",
    "ch = 10\n",
    "for Q in range(q):\n",
    "    if surv[Q]>ch:\n",
    "        x.append(ch)\n",
    "    else:\n",
    "        x.append(surv[Q])"
   ]
  },
  {
   "cell_type": "code",
   "execution_count": 941,
   "metadata": {},
   "outputs": [
    {
     "data": {
      "image/png": "[encoded data removed]",
      "text/plain": [
       "<Figure size 720x720 with 1 Axes>"
      ]
     },
     "metadata": {
      "needs_background": "light"
     },
     "output_type": "display_data"
    }
   ],
   "source": [
    "font = {'family' : 'Segoe UI',\n",
    "        'weight' : 'normal',\n",
    "        'size'   : 18}\n",
    "matplotlib.rc('font', **font)\n",
    "\n",
    "plt.figure (figsize=(10,10))\n",
    "plt.hist(x,  bins=ch+1, rwidth = 0.9, density='True', align='mid', range = (-0.5,ch+0.5), color = '#4cd87a')\n",
    "\n",
    "plt.xlabel('# of survivors') \n",
    "plt.ylabel('Occurences\\n(fraction)')\n",
    "\n",
    "plt.show()"
   ]
  },
  {
   "cell_type": "code",
   "execution_count": 937,
   "metadata": {},
   "outputs": [],
   "source": [
    "##### c=np.array(c)\n",
    "\n",
    "# X, Y , s = c[:, 0], c[:, 1], c[:, 2]"
   ]
  },
  {
   "cell_type": "code",
   "execution_count": 809,
   "metadata": {},
   "outputs": [],
   "source": [
    "# fig = plt.figure (figsize=(50,30))\n",
    "# for n in tqdm( range(pow(2,N)-1) ):\n",
    "#     if np.log2(n+1)%1 == 0:\n",
    "#         plt.plot([-2,2], [Y[n],Y[n]], '--',ray(c)\n",
    "\n",
    "# X, Y , s color = 'gray')\n",
    "#     plt.plot(X[n], Y[n], '.', markersize = s[n], color = col[n])\n",
    "    \n",
    "# plt.plot(0, 1.2, '.', markersize = s[n], color = \"white\")\n",
    "# plt.axis('off')"
   ]
  },
  {
   "cell_type": "code",
   "execution_count": null,
   "metadata": {},
   "outputs": [],
   "source": []
  }
 ],
 "metadata": {
  "kernelspec": {
   "display_name": "Python 3",
   "language": "python",
   "name": "python3"
  },
  "language_info": {
   "codemirror_mode": {
    "name": "ipython",
    "version": 3
   },
   "file_extension": ".py",
   "mimetype": "text/x-python",
   "name": "python",
   "nbconvert_exporter": "python",
   "pygments_lexer": "ipython3",
   "version": "3.7.3"
  }
 },
 "nbformat": 4,
 "nbformat_minor": 2
}
